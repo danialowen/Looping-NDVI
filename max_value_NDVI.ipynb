{
 "cells": [
  {
   "cell_type": "markdown",
   "id": "2651459a-426a-4ed1-ad35-886745fe900d",
   "metadata": {},
   "source": [
    "# Looping Through Numpy Arrays and Selecting Maximum Value\n",
    "\n",
    "This notebook loops through multiple numpy NDVI arrays and outputs a single array with the maximum value for each element from all the arrays.  "
   ]
  },
  {
   "cell_type": "code",
   "execution_count": 389,
   "id": "4b90d375-853d-4888-9db0-f1a511f0c7c4",
   "metadata": {},
   "outputs": [],
   "source": [
    "# Read in libraries\n",
    "import numpy as np\n",
    "import rasterio\n",
    "import os"
   ]
  },
  {
   "cell_type": "markdown",
   "id": "17337b82-33c6-490b-9d5e-2f416139d5d8",
   "metadata": {},
   "source": [
    "### Loop"
   ]
  },
  {
   "cell_type": "code",
   "execution_count": 391,
   "id": "4c427f1b-3d64-432b-9e78-94061df10aa6",
   "metadata": {},
   "outputs": [
    {
     "name": "stdout",
     "output_type": "stream",
     "text": [
      "The number of files in the directory:  28\n",
      "First three files in the directory:  ['03Oct21_UYB.tif', '03Oct21_UYC.tif', '04Dec21_UYB.tif']\n"
     ]
    }
   ],
   "source": [
    "# Create a list of your files\n",
    "lst = os.listdir('../data/NDVI/Copernicus_10m/clipped_and_max/ind_dates/') # your directory path\n",
    "\n",
    "# Calculate the number of files in your directory\n",
    "number_files = len(lst)\n",
    "\n",
    "# Print\n",
    "print(\"The number of files in the directory: \", number_files)\n",
    "print(\"First three files in the directory: \", lst[:3])"
   ]
  },
  {
   "cell_type": "code",
   "execution_count": 393,
   "id": "c100ad69-5244-4c32-b1ed-2ce9563cb30e",
   "metadata": {},
   "outputs": [],
   "source": [
    "# Create an empty numpy array with the same shape as the others\n",
    "outcome = np.empty((2846, 1760))\n",
    "\n",
    "# Create a forloop which loops through every file, and selects the maximum value for each element in the array\n",
    "for i in range(number_files):\n",
    "    \n",
    "    rastA = rasterio.open('../data/NDVI/Copernicus_10m/clipped_and_max/ind_dates/' + lst[i])\n",
    "    rastA = rastA.read(1)*0.0001  # Multiply by 0.0001 as Python has not scaled the values when opening\n",
    "    rastA = np.where(rastA != -3.2768, rastA, np.nan) # Convert values of -3.2768 to NA\n",
    "    \n",
    "    # Discarding NA values, find the maximum value for each element between the two arrays - outcome and rastA \n",
    "    total_max  = np.fmax(outcome, rastA)\n",
    "\n",
    "    # if there are no values in rastA which are bigger than what has already been recorded - pass\n",
    "    if (outcome == total_max).all() == True:\n",
    "        pass\n",
    "    # if there are values which are greater than that in \"outcome\", update \"outcome\"\n",
    "    else:\n",
    "        outcome = total_max"
   ]
  },
  {
   "cell_type": "markdown",
   "id": "bcc3250f-81fa-417d-ac06-467bb790d258",
   "metadata": {},
   "source": [
    "### Save Output\n",
    "\n",
    "This file had a strange format where the 'dtype' is an integer, so decimal values do not appear. Therefore, we need to change the dtype to 'float'"
   ]
  },
  {
   "cell_type": "code",
   "execution_count": 398,
   "id": "2c616f59-d109-47ab-baf3-97b31cde523e",
   "metadata": {},
   "outputs": [],
   "source": [
    "# Copy the meta of one of the initial rasters\n",
    "rast_ref = rasterio.open(\"../data/NDVI/Copernicus_10m/clipped_and_max/ind_dates/03Oct21_UYB.tif\")\n",
    "meta_x = rast_ref.meta.copy()"
   ]
  },
  {
   "cell_type": "code",
   "execution_count": 400,
   "id": "313c9fdd-1796-4241-9b91-e23afdc46f2a",
   "metadata": {},
   "outputs": [],
   "source": [
    "# Update the dtype to float\n",
    "meta_x.update({\"dtype\":\"float32\"})"
   ]
  },
  {
   "cell_type": "code",
   "execution_count": 402,
   "id": "dfd0d257-38a4-4eb3-92f0-44b8803e32f5",
   "metadata": {},
   "outputs": [
    {
     "data": {
      "text/plain": [
       "{'driver': 'GTiff',\n",
       " 'dtype': 'float32',\n",
       " 'nodata': -32768.0,\n",
       " 'width': 1760,\n",
       " 'height': 2846,\n",
       " 'count': 1,\n",
       " 'crs': CRS.from_epsg(32630),\n",
       " 'transform': Affine(10.0, 0.0, 702560.0,\n",
       "        0.0, -10.0, 5714770.0)}"
      ]
     },
     "execution_count": 402,
     "metadata": {},
     "output_type": "execute_result"
    }
   ],
   "source": [
    "# Preview meta\n",
    "meta_x"
   ]
  },
  {
   "cell_type": "code",
   "execution_count": 404,
   "id": "e4319a6f-813f-4452-a89e-f40d220f7c66",
   "metadata": {},
   "outputs": [],
   "source": [
    "# # Write raster layer as new raster file\n",
    "\n",
    "# # Copy the profile of original raster layer (e.g. CRS, extent, etc.)\n",
    "# profile_ref = rast1.profile\n",
    "\n",
    "# # Write the file\n",
    "# with rasterio.open(\"../data/NDVI/Copernicus_10m/clipped_and_max/max_all_ind_dates.tif\", 'w', **meta_x) as dst:\n",
    "#      dst.write(outcome, 1) # name of you variable (numpy array), and the band (band 1)"
   ]
  },
  {
   "cell_type": "markdown",
   "id": "9adb723c-bbae-4b6c-a7ea-d0a5e9c3eeb0",
   "metadata": {},
   "source": [
    "---"
   ]
  },
  {
   "cell_type": "markdown",
   "id": "6f873a5b-fc2a-495e-987d-1ae675eeb6fb",
   "metadata": {},
   "source": [
    "## Additional Code\n",
    "\n",
    "### How to repeat process, but calling variables within the forloop"
   ]
  },
  {
   "cell_type": "code",
   "execution_count": 410,
   "id": "2d630643-0be4-4abf-80c2-95a8f8b0a23a",
   "metadata": {},
   "outputs": [],
   "source": [
    "# Create test numpy arrays\n",
    "np0 = np.array([0, 0, 6, 6])\n",
    "np1 = np.array([0, 1, 6, 6])\n",
    "np2 = np.array([0, 0, 0, 0])"
   ]
  },
  {
   "cell_type": "code",
   "execution_count": 412,
   "id": "1e454ecc-7ba9-4bf2-bfb9-4e05e0418522",
   "metadata": {},
   "outputs": [],
   "source": [
    "# Creat an empty numpy array\n",
    "outcome = np.empty((1, 4))\n",
    "\n",
    "# Repeat forloop but callinng local variables rather than files from a directory\n",
    "for i in range(3):\n",
    "\n",
    "    rastA = globals()[f\"np{i}\"]                               # Use \"globals()\" to call variables within notebook\n",
    "    rastA = np.where(rastA != -3.2768, rastA, np.nan)\n",
    "    \n",
    "    total_max  = np.fmax(outcome, rastA)\n",
    "\n",
    "    if (outcome == total_max).all() == True:\n",
    "        pass\n",
    "    else:\n",
    "        outcome = total_max"
   ]
  },
  {
   "cell_type": "code",
   "execution_count": 414,
   "id": "eccd2d02-3adf-4e57-9066-8400abedf3c6",
   "metadata": {},
   "outputs": [
    {
     "data": {
      "text/plain": [
       "array([[0., 1., 6., 6.]])"
      ]
     },
     "execution_count": 414,
     "metadata": {},
     "output_type": "execute_result"
    }
   ],
   "source": [
    "outcome"
   ]
  }
 ],
 "metadata": {
  "kernelspec": {
   "display_name": "Python 3 (ipykernel)",
   "language": "python",
   "name": "python3"
  },
  "language_info": {
   "codemirror_mode": {
    "name": "ipython",
    "version": 3
   },
   "file_extension": ".py",
   "mimetype": "text/x-python",
   "name": "python",
   "nbconvert_exporter": "python",
   "pygments_lexer": "ipython3",
   "version": "3.12.4"
  }
 },
 "nbformat": 4,
 "nbformat_minor": 5
}
